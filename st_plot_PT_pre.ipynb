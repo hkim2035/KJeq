{
 "metadata": {
  "language_info": {
   "name": "python",
   "version": "3.9.0b5",
   "mimetype": "text/x-python",
   "codemirror_mode": {
    "name": "ipython",
    "version": 3
   },
   "pygments_lexer": "ipython3",
   "nbconvert_exporter": "python",
   "file_extension": ".py"
  },
  "orig_nbformat": 4,
  "kernelspec": {
   "name": "python3",
   "display_name": "Python 3.9.0b5 64-bit"
  },
  "interpreter": {
   "hash": "ee5cc6fef2d70a7e71ee3826687cbd150f18158e0b1eef11d4f4f92bb920e304"
  }
 },
 "nbformat": 4,
 "nbformat_minor": 2,
 "cells": [
  {
   "cell_type": "code",
   "execution_count": null,
   "source": [
    "import pandas as pd\r\n",
    "import matplotlib.pyplot as plt\r\n",
    "import numpy as np\r\n",
    "\r\n",
    "df = pd.read_csv(\"D:\\\\git\\\\KJeq\\\\A1_2103_all.csv\", sep=',', header=0, skip_blank_lines=True)\r\n"
   ],
   "outputs": [],
   "metadata": {}
  },
  {
   "cell_type": "code",
   "execution_count": null,
   "source": [
    "df.rename(columns={\"MULTI_P1_REAL\": \"P1000\", \"MULTI_P2_REAL\": \"P500\"}, inplace=True)\r\n",
    "df.rename(columns={\"MULTI_T1_REAL\": \"T1000\", \"MULTI_T2_REAL\": \"T500\"}, inplace=True)\r\n",
    "df.Time = df.Date + \" \" + df.Time\r\n",
    "df.Time = pd.to_datetime(df.Time, infer_datetime_format=True)\r\n",
    "\r\n",
    "df.head()"
   ],
   "outputs": [],
   "metadata": {}
  },
  {
   "cell_type": "code",
   "execution_count": null,
   "source": [
    "plt.scatter(df['Time'],df['P500'])"
   ],
   "outputs": [],
   "metadata": {}
  },
  {
   "cell_type": "code",
   "execution_count": null,
   "source": [
    "def hampel_filter_pandas(input_series, window_size, n_sigmas=3):\r\n",
    "\r\n",
    "    k = 1.4826 # scale factor for Gaussian distribution\r\n",
    "    new_series = input_series.copy()\r\n",
    "\r\n",
    "    # helper lambda function \r\n",
    "    MAD = lambda x: np.median(np.abs(x - np.median(x)))\r\n",
    "    \r\n",
    "    rolling_median = input_series.rolling(window=2*window_size, center=True).median()\r\n",
    "    rolling_mad = k * input_series.rolling(window=2*window_size, center=True).apply(MAD)\r\n",
    "    diff = np.abs(input_series - rolling_median)\r\n",
    "\r\n",
    "    indices = list(np.argwhere(diff > (n_sigmas * rolling_mad)).flatten())\r\n",
    "    new_series[indices] = rolling_median[indices]\r\n",
    "    \r\n",
    "    return new_series, indices\r\n",
    "\r\n",
    "rw_series = pd.Series(df['P500'])\r\n",
    "res, detected_outliers = hampel_filter_pandas(rw_series, 100)\r\n"
   ],
   "outputs": [],
   "metadata": {}
  },
  {
   "cell_type": "code",
   "execution_count": null,
   "source": [
    "dfR\r\n"
   ],
   "outputs": [],
   "metadata": {}
  },
  {
   "cell_type": "code",
   "execution_count": null,
   "source": [
    "\r\n",
    "ts = df.loc[:,['P500_time','P500_signal']]\r\n",
    "ts['P500_time'] = pd.to_datetime(ts['P500_time'])\r\n",
    "ts.set_index('P500_time', inplace=True)\r\n",
    "ts.head()"
   ],
   "outputs": [],
   "metadata": {}
  },
  {
   "cell_type": "code",
   "execution_count": null,
   "source": [
    "tsRm = ts['P500_signal'].resample(\"60T\").mean()\r\n",
    "tsRup = ts['P500_signal'].resample(\"60T\").max()\r\n",
    "tsRlow = ts['P500_signal'].resample(\"60T\").min()\r\n",
    "len(tsRup)\r\n",
    "\r\n"
   ],
   "outputs": [],
   "metadata": {}
  },
  {
   "cell_type": "code",
   "execution_count": null,
   "source": [
    "tsRm[:]\r\n"
   ],
   "outputs": [],
   "metadata": {}
  },
  {
   "cell_type": "markdown",
   "source": [
    "500 m, 1000 m 심도에서의 압력, 온도 측정값을 가져옴.\r\n",
    "\r\n",
    "먼저 500 m 심도에서 측정된 압력(P500_signal)에 대해 분석을 실시함."
   ],
   "metadata": {}
  },
  {
   "cell_type": "code",
   "execution_count": null,
   "source": [
    "plt.scatter(tsRm.index,tsRm)\r\n",
    "plt.scatter(tsRup.index,tsRup)\r\n",
    "plt.scatter(tsRlow.index,tsRlow)\r\n",
    "#plt.plot(tsRlow)\r\n",
    "#plt.plot(tsRup)\r\n",
    "plt.show()\r\n",
    "\r\n"
   ],
   "outputs": [],
   "metadata": {}
  },
  {
   "cell_type": "markdown",
   "source": [
    "데이터의 stationarity 체크를 위한 모듈 정의"
   ],
   "metadata": {}
  },
  {
   "cell_type": "code",
   "execution_count": null,
   "source": [
    "from scipy.signal import lfilter\r\n",
    "\r\n",
    "n = 1\r\n",
    "  # the larger n is, the smoother curve will be\r\n",
    "b = [1.0 / n] * n\r\n",
    "a = 1\r\n",
    "yy = lfilter(b,a,tsRm)\r\n",
    "plt.plot(tsRm.index, yy, linewidth=2, linestyle=\"-\", c=\"b\")  # smooth by filter"
   ],
   "outputs": [],
   "metadata": {}
  },
  {
   "cell_type": "code",
   "execution_count": null,
   "source": [
    "def check_stationarity(ts):\r\n",
    "    dftest = adfuller(ts)\r\n",
    "    adf = dftest[0]\r\n",
    "    pvalue = dftest[1]\r\n",
    "    critical_value = dftest[4]['5%']\r\n",
    "    if (pvalue < 0.05) and (adf < critical_value):\r\n",
    "        print('The series is stationary')\r\n",
    "    else:\r\n",
    "        print('The series is NOT stationary')"
   ],
   "outputs": [],
   "metadata": {}
  },
  {
   "cell_type": "code",
   "execution_count": null,
   "source": [
    "check_stationarity(ts)"
   ],
   "outputs": [],
   "metadata": {}
  },
  {
   "cell_type": "code",
   "execution_count": null,
   "source": [
    "ts_diff = ts.diff()\r\n",
    "ts_diff.dropna(inplace=True)\r\n",
    "check_stationarity(ts_diff)"
   ],
   "outputs": [],
   "metadata": {}
  },
  {
   "cell_type": "code",
   "execution_count": null,
   "source": [
    "plt.plot(ts_diff)\r\n",
    "plt.title('Differenced Time Series')\r\n",
    "plt.grid()\r\n",
    "plt.show()"
   ],
   "outputs": [],
   "metadata": {}
  },
  {
   "cell_type": "markdown",
   "source": [
    "시계열 데이터를 1회 미분했을 때 stationarity가 확보되며 그래프는 상기와 같음."
   ],
   "metadata": {}
  },
  {
   "cell_type": "markdown",
   "source": [
    "다음 사이트의 이상감지기법을 적용해 봄.\r\n",
    "\r\n",
    "https://neptune.ai/blog/anomaly-detection-in-time-series"
   ],
   "metadata": {}
  },
  {
   "cell_type": "code",
   "execution_count": null,
   "source": [
    "import statsmodels.tsa.seasonal\r\n",
    "\r\n",
    "plt.rc('figure',figsize=(12,8))\r\n",
    "plt.rc('font',size=15)\r\n",
    "result = statsmodels.tsa.seasonal.seasonal_decompose(ts,model='additive')\r\n",
    "fig = result.plot()"
   ],
   "outputs": [],
   "metadata": {}
  },
  {
   "cell_type": "code",
   "execution_count": null,
   "source": [
    "ts.head()\r\n"
   ],
   "outputs": [],
   "metadata": {}
  },
  {
   "cell_type": "code",
   "execution_count": null,
   "source": [
    "len(ts)\r\n"
   ],
   "outputs": [],
   "metadata": {}
  },
  {
   "cell_type": "code",
   "execution_count": null,
   "source": [
    "\r\n"
   ],
   "outputs": [],
   "metadata": {}
  },
  {
   "cell_type": "code",
   "execution_count": null,
   "source": [
    "tsm.head()\r\n"
   ],
   "outputs": [],
   "metadata": {}
  },
  {
   "cell_type": "code",
   "execution_count": null,
   "source": [
    "import statsmodels.tsa.seasonal\r\n",
    "\r\n",
    "plt.rc('figure',figsize=(16,12))\r\n",
    "plt.rc('font',size=15)\r\n",
    "result = statsmodels.tsa.seasonal.seasonal_decompose(tsm, model='additive', period=17280)\r\n",
    "fig = result.plot()"
   ],
   "outputs": [],
   "metadata": {}
  },
  {
   "cell_type": "code",
   "execution_count": null,
   "source": [],
   "outputs": [],
   "metadata": {}
  },
  {
   "cell_type": "code",
   "execution_count": null,
   "source": [
    "result.resid.sort_values()[:40]\r\n",
    "\r\n"
   ],
   "outputs": [],
   "metadata": {}
  },
  {
   "cell_type": "code",
   "execution_count": null,
   "source": [],
   "outputs": [],
   "metadata": {}
  }
 ]
}