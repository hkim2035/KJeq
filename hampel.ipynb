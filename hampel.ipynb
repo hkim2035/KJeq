{
    "cells": [
        {
            "cell_type": "code",
            "execution_count": null,
            "source": [
                "import pandas as pd\r\n",
                "import matplotlib.pyplot as plt\r\n",
                "import numpy as np\r\n",
                "from hampel import hampel\r\n",
                "import glob \r\n",
                "import os\r\n",
                "\r\n",
                "logfile = open(\"D:\\\\git\\\\KJeq\\\\hampel.log\", 'w')\r\n",
                "all_files = sorted(glob.glob(\"D:\\\\git\\\\KJeq\\\\A*_all.csv\"))\r\n",
                "\r\n",
                "for raw in all_files:\r\n",
                "    df = pd.read_csv(raw, sep=',', header=0, skip_blank_lines=True)\r\n",
                "    df.rename(columns={\"MULTI_P1_REAL\": \"P1000\", \"MULTI_P2_REAL\": \"P500\"}, inplace=True)\r\n",
                "    df.rename(columns={\"MULTI_T1_REAL\": \"T1000\", \"MULTI_T2_REAL\": \"T500\"}, inplace=True)\r\n",
                "    df['DateTime'] = pd.to_datetime(df.pop('Date')) + pd.to_timedelta(df.pop('Time'))\r\n",
                "    logfile.write(os.path.basename(raw))\r\n",
                "    logfile.write(f\"No. of data: {len(df)}\\n\")\r\n",
                "    \r\n",
                "    for dfX in [df.P500, df.P1000, df.T500, df.T1000]:\r\n",
                "        outlier = hampel(dfX, 100, 3)\r\n",
                "        dfX = dfX.drop(outlier)\r\n",
                "        logfile.write(f\"No. of P500/P1000/T500/T1000 data: {len(dfX)}\\n\")\r\n",
                "\r\n",
                "    "
            ],
            "outputs": [],
            "metadata": {}
        }
    ],
    "metadata": {
        "orig_nbformat": 4,
        "language_info": {
            "name": "python",
            "version": "3.9.0b5",
            "mimetype": "text/x-python",
            "codemirror_mode": {
                "name": "ipython",
                "version": 3
            },
            "pygments_lexer": "ipython3",
            "nbconvert_exporter": "python",
            "file_extension": ".py"
        },
        "kernelspec": {
            "name": "python3",
            "display_name": "Python 3.9.0b5 64-bit"
        },
        "interpreter": {
            "hash": "ee5cc6fef2d70a7e71ee3826687cbd150f18158e0b1eef11d4f4f92bb920e304"
        }
    },
    "nbformat": 4,
    "nbformat_minor": 2
}